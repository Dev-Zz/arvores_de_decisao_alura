{
 "cells": [
  {
   "cell_type": "code",
   "execution_count": 1,
   "id": "bfdaeca2-a0e0-4542-8b25-46b9d0fee182",
   "metadata": {},
   "outputs": [],
   "source": [
    "import pandas as pd"
   ]
  },
  {
   "cell_type": "code",
   "execution_count": 2,
   "id": "da4da4a6-f0a9-4a02-8d8e-4b8708441eda",
   "metadata": {},
   "outputs": [
    {
     "data": {
      "text/html": [
       "<div>\n",
       "<style scoped>\n",
       "    .dataframe tbody tr th:only-of-type {\n",
       "        vertical-align: middle;\n",
       "    }\n",
       "\n",
       "    .dataframe tbody tr th {\n",
       "        vertical-align: top;\n",
       "    }\n",
       "\n",
       "    .dataframe thead th {\n",
       "        text-align: right;\n",
       "    }\n",
       "</style>\n",
       "<table border=\"1\" class=\"dataframe\">\n",
       "  <thead>\n",
       "    <tr style=\"text-align: right;\">\n",
       "      <th></th>\n",
       "      <th>Time</th>\n",
       "      <th>V1</th>\n",
       "      <th>V2</th>\n",
       "      <th>V3</th>\n",
       "      <th>V4</th>\n",
       "      <th>V5</th>\n",
       "      <th>V6</th>\n",
       "      <th>V7</th>\n",
       "      <th>V8</th>\n",
       "      <th>V9</th>\n",
       "      <th>...</th>\n",
       "      <th>V21</th>\n",
       "      <th>V22</th>\n",
       "      <th>V23</th>\n",
       "      <th>V24</th>\n",
       "      <th>V25</th>\n",
       "      <th>V26</th>\n",
       "      <th>V27</th>\n",
       "      <th>V28</th>\n",
       "      <th>Amount</th>\n",
       "      <th>Class</th>\n",
       "    </tr>\n",
       "  </thead>\n",
       "  <tbody>\n",
       "    <tr>\n",
       "      <th>0</th>\n",
       "      <td>0.0</td>\n",
       "      <td>-1.359807</td>\n",
       "      <td>-0.072781</td>\n",
       "      <td>2.536347</td>\n",
       "      <td>1.378155</td>\n",
       "      <td>-0.338321</td>\n",
       "      <td>0.462388</td>\n",
       "      <td>0.239599</td>\n",
       "      <td>0.098698</td>\n",
       "      <td>0.363787</td>\n",
       "      <td>...</td>\n",
       "      <td>-0.018307</td>\n",
       "      <td>0.277838</td>\n",
       "      <td>-0.110474</td>\n",
       "      <td>0.066928</td>\n",
       "      <td>0.128539</td>\n",
       "      <td>-0.189115</td>\n",
       "      <td>0.133558</td>\n",
       "      <td>-0.021053</td>\n",
       "      <td>149.62</td>\n",
       "      <td>0</td>\n",
       "    </tr>\n",
       "    <tr>\n",
       "      <th>1</th>\n",
       "      <td>0.0</td>\n",
       "      <td>1.191857</td>\n",
       "      <td>0.266151</td>\n",
       "      <td>0.166480</td>\n",
       "      <td>0.448154</td>\n",
       "      <td>0.060018</td>\n",
       "      <td>-0.082361</td>\n",
       "      <td>-0.078803</td>\n",
       "      <td>0.085102</td>\n",
       "      <td>-0.255425</td>\n",
       "      <td>...</td>\n",
       "      <td>-0.225775</td>\n",
       "      <td>-0.638672</td>\n",
       "      <td>0.101288</td>\n",
       "      <td>-0.339846</td>\n",
       "      <td>0.167170</td>\n",
       "      <td>0.125895</td>\n",
       "      <td>-0.008983</td>\n",
       "      <td>0.014724</td>\n",
       "      <td>2.69</td>\n",
       "      <td>0</td>\n",
       "    </tr>\n",
       "    <tr>\n",
       "      <th>2</th>\n",
       "      <td>1.0</td>\n",
       "      <td>-1.358354</td>\n",
       "      <td>-1.340163</td>\n",
       "      <td>1.773209</td>\n",
       "      <td>0.379780</td>\n",
       "      <td>-0.503198</td>\n",
       "      <td>1.800499</td>\n",
       "      <td>0.791461</td>\n",
       "      <td>0.247676</td>\n",
       "      <td>-1.514654</td>\n",
       "      <td>...</td>\n",
       "      <td>0.247998</td>\n",
       "      <td>0.771679</td>\n",
       "      <td>0.909412</td>\n",
       "      <td>-0.689281</td>\n",
       "      <td>-0.327642</td>\n",
       "      <td>-0.139097</td>\n",
       "      <td>-0.055353</td>\n",
       "      <td>-0.059752</td>\n",
       "      <td>378.66</td>\n",
       "      <td>0</td>\n",
       "    </tr>\n",
       "    <tr>\n",
       "      <th>3</th>\n",
       "      <td>1.0</td>\n",
       "      <td>-0.966272</td>\n",
       "      <td>-0.185226</td>\n",
       "      <td>1.792993</td>\n",
       "      <td>-0.863291</td>\n",
       "      <td>-0.010309</td>\n",
       "      <td>1.247203</td>\n",
       "      <td>0.237609</td>\n",
       "      <td>0.377436</td>\n",
       "      <td>-1.387024</td>\n",
       "      <td>...</td>\n",
       "      <td>-0.108300</td>\n",
       "      <td>0.005274</td>\n",
       "      <td>-0.190321</td>\n",
       "      <td>-1.175575</td>\n",
       "      <td>0.647376</td>\n",
       "      <td>-0.221929</td>\n",
       "      <td>0.062723</td>\n",
       "      <td>0.061458</td>\n",
       "      <td>123.50</td>\n",
       "      <td>0</td>\n",
       "    </tr>\n",
       "    <tr>\n",
       "      <th>4</th>\n",
       "      <td>2.0</td>\n",
       "      <td>-1.158233</td>\n",
       "      <td>0.877737</td>\n",
       "      <td>1.548718</td>\n",
       "      <td>0.403034</td>\n",
       "      <td>-0.407193</td>\n",
       "      <td>0.095921</td>\n",
       "      <td>0.592941</td>\n",
       "      <td>-0.270533</td>\n",
       "      <td>0.817739</td>\n",
       "      <td>...</td>\n",
       "      <td>-0.009431</td>\n",
       "      <td>0.798278</td>\n",
       "      <td>-0.137458</td>\n",
       "      <td>0.141267</td>\n",
       "      <td>-0.206010</td>\n",
       "      <td>0.502292</td>\n",
       "      <td>0.219422</td>\n",
       "      <td>0.215153</td>\n",
       "      <td>69.99</td>\n",
       "      <td>0</td>\n",
       "    </tr>\n",
       "  </tbody>\n",
       "</table>\n",
       "<p>5 rows × 31 columns</p>\n",
       "</div>"
      ],
      "text/plain": [
       "   Time        V1        V2        V3        V4        V5        V6        V7  \\\n",
       "0   0.0 -1.359807 -0.072781  2.536347  1.378155 -0.338321  0.462388  0.239599   \n",
       "1   0.0  1.191857  0.266151  0.166480  0.448154  0.060018 -0.082361 -0.078803   \n",
       "2   1.0 -1.358354 -1.340163  1.773209  0.379780 -0.503198  1.800499  0.791461   \n",
       "3   1.0 -0.966272 -0.185226  1.792993 -0.863291 -0.010309  1.247203  0.237609   \n",
       "4   2.0 -1.158233  0.877737  1.548718  0.403034 -0.407193  0.095921  0.592941   \n",
       "\n",
       "         V8        V9  ...       V21       V22       V23       V24       V25  \\\n",
       "0  0.098698  0.363787  ... -0.018307  0.277838 -0.110474  0.066928  0.128539   \n",
       "1  0.085102 -0.255425  ... -0.225775 -0.638672  0.101288 -0.339846  0.167170   \n",
       "2  0.247676 -1.514654  ...  0.247998  0.771679  0.909412 -0.689281 -0.327642   \n",
       "3  0.377436 -1.387024  ... -0.108300  0.005274 -0.190321 -1.175575  0.647376   \n",
       "4 -0.270533  0.817739  ... -0.009431  0.798278 -0.137458  0.141267 -0.206010   \n",
       "\n",
       "        V26       V27       V28  Amount  Class  \n",
       "0 -0.189115  0.133558 -0.021053  149.62      0  \n",
       "1  0.125895 -0.008983  0.014724    2.69      0  \n",
       "2 -0.139097 -0.055353 -0.059752  378.66      0  \n",
       "3 -0.221929  0.062723  0.061458  123.50      0  \n",
       "4  0.502292  0.219422  0.215153   69.99      0  \n",
       "\n",
       "[5 rows x 31 columns]"
      ]
     },
     "execution_count": 2,
     "metadata": {},
     "output_type": "execute_result"
    }
   ],
   "source": [
    "dados = pd.read_csv('.\\Dados\\creditcard.csv')\n",
    "dados.head()"
   ]
  },
  {
   "cell_type": "code",
   "execution_count": 3,
   "id": "9461cf19-e185-4296-93ea-73de25dc4752",
   "metadata": {},
   "outputs": [
    {
     "name": "stdout",
     "output_type": "stream",
     "text": [
      "Número de transações: 284807\n",
      "Número de transações fraudes: 492\n",
      "Número de transações normais: 284315\n",
      "Porcentagem de transações fraudes: 0.17%\n",
      "Porcentagem de transações normais: 99.83%\n"
     ]
    }
   ],
   "source": [
    "n_transacoes = dados['Class'].count()\n",
    "n_fraudes = dados['Class'].sum()\n",
    "n_normais = n_transacoes - n_fraudes\n",
    "fraude_porc = round((n_fraudes / n_transacoes)*100, 2)\n",
    "normais_porc = round((n_normais / n_transacoes)*100, 2) \n",
    "\n",
    "print(f\"Número de transações: {n_transacoes}\")\n",
    "print(f\"Número de transações fraudes: {n_fraudes}\")\n",
    "print(f\"Número de transações normais: {n_normais}\")\n",
    "print(f\"Porcentagem de transações fraudes: {fraude_porc}%\")\n",
    "print(f\"Porcentagem de transações normais: {normais_porc}%\")"
   ]
  },
  {
   "cell_type": "code",
   "execution_count": 4,
   "id": "419e5264-6212-4b82-871f-8ffbd6c576aa",
   "metadata": {},
   "outputs": [],
   "source": [
    "from sklearn.model_selection import StratifiedShuffleSplit\n",
    "\n",
    "def executarValidador(x, y):\n",
    "    validador = StratifiedShuffleSplit(n_splits=1, test_size=0.1, random_state=0)\n",
    "    for treino_id, teste_id in validador.split(x, y):\n",
    "        x_train, x_test = x[treino_id], x[teste_id]\n",
    "        y_train, y_test = y[treino_id], y[teste_id]\n",
    "    return x_train, x_test, y_train, y_test"
   ]
  },
  {
   "cell_type": "code",
   "execution_count": 5,
   "id": "d18dca2c-d738-4b98-a9eb-aca3f990270f",
   "metadata": {},
   "outputs": [
    {
     "name": "stdout",
     "output_type": "stream",
     "text": [
      "CPU times: total: 156 ms\n",
      "Wall time: 270 ms\n"
     ]
    }
   ],
   "source": [
    "%%time\n",
    "from sklearn import tree\n",
    "\n",
    "def executarClassificador(classificador, x_train, x_test, y_train):\n",
    "    arvore = classificador.fit(x_train, y_train)\n",
    "    y_pred = arvore.predict(x_test)\n",
    "    return y_pred"
   ]
  },
  {
   "cell_type": "code",
   "execution_count": 6,
   "id": "01ed8c96-934f-49ab-b050-7948241a4dd9",
   "metadata": {},
   "outputs": [],
   "source": [
    "import matplotlib.pyplot as plt\n",
    "\n",
    "def salvarArvore(classificador, nome):\n",
    "    plt.figure(figsize=(200,100))\n",
    "    tree.plot_tree(classificador, filled=True, fontsize=14)\n",
    "    plt.savefig(nome)\n",
    "    plt.close()"
   ]
  },
  {
   "cell_type": "code",
   "execution_count": 7,
   "id": "32d8a484-6308-4e70-80d9-93b2bc90fc7f",
   "metadata": {},
   "outputs": [],
   "source": [
    "from sklearn.metrics import accuracy_score\n",
    "from sklearn.metrics import confusion_matrix\n",
    "from sklearn.metrics import precision_score\n",
    "from sklearn.metrics import recall_score\n",
    "\n",
    "def validarArvore(y_test, y_pred):\n",
    "    print(\"Accuracy Score: \", accuracy_score(y_test, y_pred))\n",
    "    print()\n",
    "    print(\"Precision Score: \", precision_score(y_test, y_pred))\n",
    "    print()\n",
    "    print(\"Recall Score: \", recall_score(y_test, y_pred))\n",
    "    print()\n",
    "    print(confusion_matrix(y_test, y_pred))"
   ]
  },
  {
   "cell_type": "code",
   "execution_count": 8,
   "id": "64bf2687-d62e-4f51-a3e5-e95c197047f2",
   "metadata": {},
   "outputs": [],
   "source": [
    "#execucao do validador\n",
    "x = dados.drop('Class', axis=1).values\n",
    "y = dados['Class'].values\n",
    "x_train, x_test, y_train, y_test = executarValidador(x, y)"
   ]
  },
  {
   "cell_type": "code",
   "execution_count": 9,
   "id": "64641269-1cb1-42f9-9d51-301764d3eeed",
   "metadata": {},
   "outputs": [],
   "source": [
    "#execucao do classificador\n",
    "classificador_arvore_decisao = tree.DecisionTreeClassifier()\n",
    "y_pred_arvore_decisao = executarClassificador(classificador_arvore_decisao, x_train, x_test, y_train)"
   ]
  },
  {
   "cell_type": "code",
   "execution_count": 10,
   "id": "85d81f45-50aa-4f93-b718-aaa184253509",
   "metadata": {},
   "outputs": [],
   "source": [
    "#criação da figura da arvore de decisão\n",
    "salvarArvore(classificador_arvore_decisao, \"arvore_decisao1.png\")"
   ]
  },
  {
   "cell_type": "code",
   "execution_count": 11,
   "id": "8df963fb-c0ac-41ac-9d5a-0bab9be41947",
   "metadata": {},
   "outputs": [
    {
     "name": "stdout",
     "output_type": "stream",
     "text": [
      "Accuracy Score:  0.9990871107053826\n",
      "\n",
      "Precision Score:  0.7555555555555555\n",
      "\n",
      "Recall Score:  0.6938775510204082\n",
      "\n",
      "[[28421    11]\n",
      " [   15    34]]\n"
     ]
    }
   ],
   "source": [
    "#validação da arvore de decisao\n",
    "validarArvore(y_test, y_pred_arvore_decisao)"
   ]
  },
  {
   "cell_type": "code",
   "execution_count": 12,
   "id": "b9613616-409b-4458-83ce-2cbea4f55be9",
   "metadata": {},
   "outputs": [
    {
     "name": "stdout",
     "output_type": "stream",
     "text": [
      "DecisionTreeClassifier()\n",
      "21\n"
     ]
    }
   ],
   "source": [
    "print(classificador_arvore_decisao)\n",
    "print(classificador_arvore_decisao.get_depth())"
   ]
  },
  {
   "cell_type": "code",
   "execution_count": 13,
   "id": "08a27fce-6467-4371-8c3e-45bb254c8878",
   "metadata": {},
   "outputs": [
    {
     "name": "stdout",
     "output_type": "stream",
     "text": [
      "CPU times: total: 13.3 s\n",
      "Wall time: 13.4 s\n"
     ]
    }
   ],
   "source": [
    "%%time\n",
    "#execucao do classificador\n",
    "classificador_arvore_decisao = tree.DecisionTreeClassifier(max_depth=10, random_state=0)\n",
    "y_pred_arvore_decisao = executarClassificador(classificador_arvore_decisao, x_train, x_test, y_train)"
   ]
  },
  {
   "cell_type": "code",
   "execution_count": 14,
   "id": "29c31ff3-dd06-4031-b517-a996ec275a7c",
   "metadata": {},
   "outputs": [
    {
     "name": "stdout",
     "output_type": "stream",
     "text": [
      "Accuracy Score:  0.9994733330992591\n",
      "\n",
      "Precision Score:  0.9473684210526315\n",
      "\n",
      "Recall Score:  0.7346938775510204\n",
      "\n",
      "[[28430     2]\n",
      " [   13    36]]\n"
     ]
    }
   ],
   "source": [
    "validarArvore(y_test, y_pred_arvore_decisao)"
   ]
  },
  {
   "cell_type": "code",
   "execution_count": 15,
   "id": "a7f18525-9a94-4fb4-967a-344982f65b33",
   "metadata": {},
   "outputs": [],
   "source": [
    "#execucao do classificador\n",
    "classificador_arvore_decisao = tree.DecisionTreeClassifier(max_depth=10, random_state=0, min_samples_leaf=10)\n",
    "y_pred_arvore_decisao = executarClassificador(classificador_arvore_decisao, x_train, x_test, y_train)"
   ]
  },
  {
   "cell_type": "code",
   "execution_count": 16,
   "id": "e23f1e0c-39bd-4747-968b-011c8338a4ec",
   "metadata": {},
   "outputs": [
    {
     "name": "stdout",
     "output_type": "stream",
     "text": [
      "Accuracy Score:  0.9993679997191109\n",
      "\n",
      "Precision Score:  0.8604651162790697\n",
      "\n",
      "Recall Score:  0.7551020408163265\n",
      "\n",
      "[[28426     6]\n",
      " [   12    37]]\n"
     ]
    }
   ],
   "source": [
    "validarArvore(y_test, y_pred_arvore_decisao)"
   ]
  },
  {
   "cell_type": "code",
   "execution_count": 17,
   "id": "a7d3201c-5857-4d5d-b869-3b4c60f81d0a",
   "metadata": {},
   "outputs": [],
   "source": [
    "#execucao do classificador\n",
    "classificador_arvore_decisao = tree.DecisionTreeClassifier(max_depth=5, random_state=0)\n",
    "y_pred_arvore_decisao = executarClassificador(classificador_arvore_decisao, x_train, x_test, y_train)"
   ]
  },
  {
   "cell_type": "code",
   "execution_count": 18,
   "id": "9b601ea8-87cd-4b9c-b648-281ecf2016c0",
   "metadata": {},
   "outputs": [
    {
     "name": "stdout",
     "output_type": "stream",
     "text": [
      "Accuracy Score:  0.999403110845827\n",
      "\n",
      "Precision Score:  0.9210526315789473\n",
      "\n",
      "Recall Score:  0.7142857142857143\n",
      "\n",
      "[[28429     3]\n",
      " [   14    35]]\n"
     ]
    }
   ],
   "source": [
    "validarArvore(y_test, y_pred_arvore_decisao)"
   ]
  },
  {
   "cell_type": "code",
   "execution_count": 19,
   "id": "33ce165c-473e-4cca-b00e-6367a3e60dd3",
   "metadata": {},
   "outputs": [],
   "source": [
    "from sklearn.ensemble import RandomForestClassifier"
   ]
  },
  {
   "cell_type": "code",
   "execution_count": 20,
   "id": "21072d8c-93da-4a5e-8e43-911a8ad80ff8",
   "metadata": {},
   "outputs": [
    {
     "name": "stdout",
     "output_type": "stream",
     "text": [
      "CPU times: total: 5min 16s\n",
      "Wall time: 5min 49s\n"
     ]
    }
   ],
   "source": [
    "%%time\n",
    "classificador_random_forest = RandomForestClassifier(n_estimators=100, random_state=0)\n",
    "y_pred_random_forest = executarClassificador(classificador_random_forest, x_train, x_test, y_train)"
   ]
  },
  {
   "cell_type": "code",
   "execution_count": 21,
   "id": "294c0ac2-cd33-4d66-b6a5-ef09c0c85d1a",
   "metadata": {},
   "outputs": [],
   "source": [
    "salvarArvore(classificador_random_forest.estimators_[0], \"random_forest1.png\")\n",
    "salvarArvore(classificador_random_forest.estimators_[1], \"random_forest2.png\")"
   ]
  },
  {
   "cell_type": "code",
   "execution_count": 22,
   "id": "7ce3f291-3121-4144-8f99-ea9a9f68abd9",
   "metadata": {},
   "outputs": [
    {
     "name": "stdout",
     "output_type": "stream",
     "text": [
      "Accuracy Score:  0.9995084442259752\n",
      "\n",
      "Precision Score:  0.9487179487179487\n",
      "\n",
      "Recall Score:  0.7551020408163265\n",
      "\n",
      "[[28430     2]\n",
      " [   12    37]]\n"
     ]
    }
   ],
   "source": [
    "validarArvore(y_test, y_pred_random_forest)"
   ]
  },
  {
   "cell_type": "code",
   "execution_count": 23,
   "id": "1f504b80-f900-4648-b06a-bfa2b72e884b",
   "metadata": {},
   "outputs": [
    {
     "name": "stdout",
     "output_type": "stream",
     "text": [
      "CPU times: total: 1min 23s\n",
      "Wall time: 1min 24s\n"
     ]
    }
   ],
   "source": [
    "%%time\n",
    "classificador_random_forest = RandomForestClassifier(n_estimators=50, random_state=0, max_depth=10)\n",
    "y_pred_random_forest = executarClassificador(classificador_random_forest, x_train, x_test, y_train)"
   ]
  },
  {
   "cell_type": "code",
   "execution_count": 24,
   "id": "62ee9993-2672-433c-a85d-c8b2fe62ea1d",
   "metadata": {},
   "outputs": [
    {
     "name": "stdout",
     "output_type": "stream",
     "text": [
      "Accuracy Score:  0.9995435553526912\n",
      "\n",
      "Precision Score:  0.9736842105263158\n",
      "\n",
      "Recall Score:  0.7551020408163265\n",
      "\n",
      "[[28431     1]\n",
      " [   12    37]]\n"
     ]
    }
   ],
   "source": [
    "validarArvore(y_test, y_pred_random_forest)"
   ]
  },
  {
   "cell_type": "code",
   "execution_count": 25,
   "id": "a6b8b665-ad47-4583-bfe7-cecce73b2186",
   "metadata": {},
   "outputs": [],
   "source": [
    "from sklearn.ensemble import AdaBoostClassifier"
   ]
  },
  {
   "cell_type": "code",
   "execution_count": 27,
   "id": "957313ab-eb9a-458c-8092-1f0374b9f5ab",
   "metadata": {},
   "outputs": [
    {
     "name": "stdout",
     "output_type": "stream",
     "text": [
      "CPU times: total: 1min 29s\n",
      "Wall time: 1min 34s\n"
     ]
    }
   ],
   "source": [
    "%%time\n",
    "classificador_adaboost = AdaBoostClassifier(random_state=0)\n",
    "y_pred_adaboost = executarClassificador(classificador_adaboost, x_train, x_test, y_train)"
   ]
  },
  {
   "cell_type": "code",
   "execution_count": 29,
   "id": "fcc7fb59-aae8-4ea5-9272-56b3559b9692",
   "metadata": {},
   "outputs": [],
   "source": [
    "salvarArvore(classificador_adaboost.estimators_[0], \"adaboost1\")\n",
    "salvarArvore(classificador_adaboost.estimators_[1], \"adaboost2\")"
   ]
  },
  {
   "cell_type": "code",
   "execution_count": 30,
   "id": "0fcf75cf-8e73-4e23-a0d1-babbebaad8b5",
   "metadata": {},
   "outputs": [
    {
     "name": "stdout",
     "output_type": "stream",
     "text": [
      "Accuracy Score:  0.9992626663389628\n",
      "\n",
      "Precision Score:  0.8888888888888888\n",
      "\n",
      "Recall Score:  0.6530612244897959\n",
      "\n",
      "[[28428     4]\n",
      " [   17    32]]\n"
     ]
    }
   ],
   "source": [
    "validarArvore(y_test, y_pred_adaboost)"
   ]
  },
  {
   "cell_type": "code",
   "execution_count": 31,
   "id": "5860340e-d9fa-4c3c-8620-0fed6a2c28f3",
   "metadata": {},
   "outputs": [
    {
     "name": "stdout",
     "output_type": "stream",
     "text": [
      "CPU times: total: 2min 58s\n",
      "Wall time: 3min 9s\n"
     ]
    }
   ],
   "source": [
    "%%time\n",
    "classificador_adaboost = AdaBoostClassifier(random_state=0, n_estimators=100)\n",
    "y_pred_adaboost = executarClassificador(classificador_adaboost, x_train, x_test, y_train)"
   ]
  },
  {
   "cell_type": "code",
   "execution_count": 32,
   "id": "993c044f-cdf2-463d-b465-6aa32a55f381",
   "metadata": {},
   "outputs": [
    {
     "name": "stdout",
     "output_type": "stream",
     "text": [
      "Accuracy Score:  0.999403110845827\n",
      "\n",
      "Precision Score:  0.8636363636363636\n",
      "\n",
      "Recall Score:  0.7755102040816326\n",
      "\n",
      "[[28426     6]\n",
      " [   11    38]]\n"
     ]
    }
   ],
   "source": [
    "validarArvore(y_test, y_pred_adaboost)"
   ]
  }
 ],
 "metadata": {
  "kernelspec": {
   "display_name": "Python 3 (ipykernel)",
   "language": "python",
   "name": "python3"
  },
  "language_info": {
   "codemirror_mode": {
    "name": "ipython",
    "version": 3
   },
   "file_extension": ".py",
   "mimetype": "text/x-python",
   "name": "python",
   "nbconvert_exporter": "python",
   "pygments_lexer": "ipython3",
   "version": "3.10.5"
  }
 },
 "nbformat": 4,
 "nbformat_minor": 5
}
